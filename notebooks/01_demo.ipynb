{
 "cells": [
  {
   "cell_type": "markdown",
   "metadata": {},
   "source": [
    "# Demo: Asignación de Municipios por Georreferencia (RD)\n",
    "\n",
    "Este notebook muestra cómo usar el paquete `geo-muni` para asignar el **municipio** a un conjunto de puntos (`lon`, `lat`).\n"
   ]
  },
  {
   "cell_type": "code",
   "execution_count": null,
   "metadata": {},
   "outputs": [],
   "source": [
    "import pandas as pd\n",
    "from geo_muni.assign import load_municipios, assign\n",
    "\n",
    "df = pd.read_csv('../data/raw/puntos_sample.csv')\n",
    "muni_gdf = load_municipios('../data/raw/municipios_sample.geojson', muni_col='name')\n",
    "out = assign(df, muni_gdf, muni_col='name')\n",
    "out.head()"
   ]
  },
  {
   "cell_type": "markdown",
   "metadata": {},
   "source": [
    "Guarda el resultado si lo deseas:"
   ]
  },
  {
   "cell_type": "code",
   "execution_count": null,
   "metadata": {},
   "outputs": [],
   "source": [
    "out.to_csv('../data/processed/puntos_con_municipio.csv', index=False)\n",
    "print('Guardado en data/processed/puntos_con_municipio.csv')"
   ]
  }
 ],
 "metadata": {
  "kernelspec": {
   "display_name": "Python 3",
   "language": "python",
   "name": "python3"
  },
  "language_info": {
   "name": "python",
   "version": "3.11"
  }
 },
 "nbformat": 4,
 "nbformat_minor": 2
}
